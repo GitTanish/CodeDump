{
  "nbformat": 4,
  "nbformat_minor": 0,
  "metadata": {
    "colab": {
      "provenance": [],
      "authorship_tag": "ABX9TyPrS78Y3iuTrhidbZ4v3GJM"
    },
    "kernelspec": {
      "name": "python3",
      "display_name": "Python 3"
    },
    "language_info": {
      "name": "python"
    }
  },
  "cells": [
    {
      "cell_type": "code",
      "execution_count": null,
      "metadata": {
        "colab": {
          "base_uri": "https://localhost:8080/"
        },
        "id": "D3UATeMw7Q1g",
        "outputId": "3f719a82-37b7-4355-c254-7a90bed18b02"
      },
      "outputs": [
        {
          "output_type": "execute_result",
          "data": {
            "text/plain": [
              "(2, 5, 1, 7)"
            ]
          },
          "metadata": {},
          "execution_count": 10
        }
      ],
      "source": [
        "tup1 = (2,5,8,1,7)\n",
        "tup2=tup1[0:2] +tup1[3:5]\n",
        "tup2"
      ]
    },
    {
      "cell_type": "code",
      "source": [
        "tup1 = (2,5,8,1,7) # slicing stop=n-1\n",
        "pos = int(input('Enter the Position:'))\n",
        "# tup2= tup1[pos-1]+tup1[pos-1::]\n",
        "# print(tup2)\n",
        "tup2=tup1[:pos-1] +tup1[pos:]\n",
        "print(tup2)"
      ],
      "metadata": {
        "colab": {
          "base_uri": "https://localhost:8080/"
        },
        "id": "N8c7zHdS9waG",
        "outputId": "cba615cd-c25a-4310-b39f-fc919971bb2d"
      },
      "execution_count": null,
      "outputs": [
        {
          "output_type": "stream",
          "name": "stdout",
          "text": [
            "Enter the Position:2\n",
            "(2, 8, 1, 7)\n"
          ]
        }
      ]
    },
    {
      "cell_type": "markdown",
      "source": [
        "- Sets\n",
        "1. Set is an unordered collection of heterogenous data type values.\n",
        "2. Set doesn't support Indexing and Slicing.\n",
        "3. Set is Mutable in Nature. But we can't modify the element and we can add new element or remove exisitng element. (changable that's why mutable)\n",
        "4. Set doesn't allow duplicate element.\n",
        "5. Set element enclosed in {} and seperated by ' , '\n"
      ],
      "metadata": {
        "id": "FOShgfUJBYG9"
      }
    },
    {
      "cell_type": "code",
      "source": [
        "# set\n",
        "# in python True and 0 are same thing\n",
        "set1 = {'name', 234, 37.5, None, False, 'abc',0, True,1}\n",
        "set1\n",
        "# set's are not subscriptable"
      ],
      "metadata": {
        "colab": {
          "base_uri": "https://localhost:8080/"
        },
        "id": "gE6kGxgd8GuQ",
        "outputId": "41eb49e9-1509-4b8a-d95b-eef0080e6647"
      },
      "execution_count": null,
      "outputs": [
        {
          "output_type": "execute_result",
          "data": {
            "text/plain": [
              "{234, 37.5, False, None, True, 'abc', 'name'}"
            ]
          },
          "metadata": {},
          "execution_count": 21
        }
      ]
    },
    {
      "cell_type": "code",
      "source": [
        "# add - add single element anywhere in set\n",
        "set1={'abc',3,7,True}\n",
        "set1.add(0)\n",
        "set1"
      ],
      "metadata": {
        "colab": {
          "base_uri": "https://localhost:8080/"
        },
        "id": "bBDhyzRXER_r",
        "outputId": "6b901f5c-f131-46ca-d794-b96ef4276cd4"
      },
      "execution_count": null,
      "outputs": [
        {
          "output_type": "execute_result",
          "data": {
            "text/plain": [
              "{0, 3, 7, True, 'abc'}"
            ]
          },
          "metadata": {},
          "execution_count": 22
        }
      ]
    },
    {
      "cell_type": "code",
      "source": [
        "# update - add multiple element any where in set\n",
        "set1 = {'abc',3,7,True}\n",
        "set1.update([0,90,12])\n",
        "set1"
      ],
      "metadata": {
        "colab": {
          "base_uri": "https://localhost:8080/"
        },
        "id": "kT2fiAMQEw6G",
        "outputId": "1bc05322-445d-4658-fd2f-0b45ee601c35"
      },
      "execution_count": null,
      "outputs": [
        {
          "output_type": "execute_result",
          "data": {
            "text/plain": [
              "{0, 12, 3, 7, 90, True, 'abc'}"
            ]
          },
          "metadata": {},
          "execution_count": 23
        }
      ]
    },
    {
      "cell_type": "code",
      "source": [
        "# remove\n",
        "set1 = {'abc',3,7,True}\n",
        "set1.remove(3)\n",
        "set1"
      ],
      "metadata": {
        "colab": {
          "base_uri": "https://localhost:8080/"
        },
        "id": "MqiZUn0LFSLO",
        "outputId": "812c57b0-0961-48e2-9d9b-b300891091a6"
      },
      "execution_count": null,
      "outputs": [
        {
          "output_type": "execute_result",
          "data": {
            "text/plain": [
              "{7, True, 'abc'}"
            ]
          },
          "metadata": {},
          "execution_count": 26
        }
      ]
    },
    {
      "cell_type": "code",
      "source": [
        "# discard\n",
        "set1 = {'abc',3,7,True}\n",
        "set1.discard(5)\n",
        "set1"
      ],
      "metadata": {
        "colab": {
          "base_uri": "https://localhost:8080/"
        },
        "id": "VMfLpyx2Fx88",
        "outputId": "84fcfe87-4632-4d91-e7ce-8ad94bd685b1"
      },
      "execution_count": null,
      "outputs": [
        {
          "output_type": "execute_result",
          "data": {
            "text/plain": [
              "{3, 7, True, 'abc'}"
            ]
          },
          "metadata": {},
          "execution_count": 27
        }
      ]
    },
    {
      "cell_type": "code",
      "source": [
        "'''\n",
        "Use remove() when you are certain the element exists in the set and want an error to be raised if it's absent.\n",
        "Use discard() when you are unsure if the element exists in the set and want to avoid an error if it's not present.\n",
        "'''"
      ],
      "metadata": {
        "colab": {
          "base_uri": "https://localhost:8080/",
          "height": 53
        },
        "id": "-cIGtRPbGrwb",
        "outputId": "cb4accbd-0420-44f7-fb8f-d9a907bccf34"
      },
      "execution_count": null,
      "outputs": [
        {
          "output_type": "execute_result",
          "data": {
            "text/plain": [
              "\" \\nUse remove() when you are certain the element exists in the set and want an error to be raised if it's absent.\\nUse discard() when you are unsure if the element exists in the set and want to avoid an error if it's not present.\\n\""
            ],
            "application/vnd.google.colaboratory.intrinsic+json": {
              "type": "string"
            }
          },
          "metadata": {},
          "execution_count": 28
        }
      ]
    },
    {
      "cell_type": "markdown",
      "source": [
        "- Dictionary\n",
        "1. Dictionary is an ordered collection of Key Value pair structure.\n",
        "2. Dictionary doesn't allow indexing and slicing. But here key is used as indexing\n",
        "3. Dictionary is Mutable in nature\n",
        "4. Dicitonary doesn't allow duplicate keys\n",
        "5. Dictionary is enclosed in {} and in Key Value pair\n"
      ],
      "metadata": {
        "id": "Brzb9v7zHfJq"
      }
    },
    {
      "cell_type": "code",
      "source": [
        "marks = {'name':'Bang','Roll.No':21}\n",
        "marks['name']"
      ],
      "metadata": {
        "colab": {
          "base_uri": "https://localhost:8080/",
          "height": 35
        },
        "id": "toejfAgqIx7D",
        "outputId": "9aa270c1-4c95-46f9-e30d-c0dcd274d120"
      },
      "execution_count": null,
      "outputs": [
        {
          "output_type": "execute_result",
          "data": {
            "text/plain": [
              "'Bang'"
            ],
            "application/vnd.google.colaboratory.intrinsic+json": {
              "type": "string"
            }
          },
          "metadata": {},
          "execution_count": 30
        }
      ]
    },
    {
      "cell_type": "code",
      "source": [
        "type(marks)"
      ],
      "metadata": {
        "colab": {
          "base_uri": "https://localhost:8080/"
        },
        "id": "JHgpBT82JSzD",
        "outputId": "2bf2f2ef-b40d-4a59-a361-bb2b99d7dd84"
      },
      "execution_count": null,
      "outputs": [
        {
          "output_type": "execute_result",
          "data": {
            "text/plain": [
              "dict"
            ]
          },
          "metadata": {},
          "execution_count": 31
        }
      ]
    },
    {
      "cell_type": "code",
      "source": [
        "marks = {'name':['Bang','Bomb'],'Roll.No':21}\n",
        "marks['name'][0]"
      ],
      "metadata": {
        "colab": {
          "base_uri": "https://localhost:8080/",
          "height": 35
        },
        "id": "Jpu5xy_TJX42",
        "outputId": "dc7a06ab-813d-4a39-f026-6da8f35f07eb"
      },
      "execution_count": null,
      "outputs": [
        {
          "output_type": "execute_result",
          "data": {
            "text/plain": [
              "'Bang'"
            ],
            "application/vnd.google.colaboratory.intrinsic+json": {
              "type": "string"
            }
          },
          "metadata": {},
          "execution_count": 32
        }
      ]
    },
    {
      "cell_type": "code",
      "source": [
        "report = {\"name\":\"Bang\",\"RollNo\":\"50\"}\n",
        "report.update({'RollNo':\"51\"})\n",
        "report[\"RollNo\"]"
      ],
      "metadata": {
        "colab": {
          "base_uri": "https://localhost:8080/",
          "height": 35
        },
        "id": "1lexzfdaKaT1",
        "outputId": "80e0fa24-e84c-4b5e-e72f-d1897f1199b1"
      },
      "execution_count": null,
      "outputs": [
        {
          "output_type": "execute_result",
          "data": {
            "text/plain": [
              "'51'"
            ],
            "application/vnd.google.colaboratory.intrinsic+json": {
              "type": "string"
            }
          },
          "metadata": {},
          "execution_count": 36
        }
      ]
    },
    {
      "cell_type": "code",
      "source": [
        "report = {\"name\":\"Bang\",\"RollNo\":\"50\"}\n",
        "report.popitem()\n",
        "report"
      ],
      "metadata": {
        "colab": {
          "base_uri": "https://localhost:8080/"
        },
        "id": "-Pmt8aJ5PsAa",
        "outputId": "676c8035-13e6-416f-a1b3-a91947fc5874"
      },
      "execution_count": null,
      "outputs": [
        {
          "output_type": "execute_result",
          "data": {
            "text/plain": [
              "{'name': 'Bang'}"
            ]
          },
          "metadata": {},
          "execution_count": 38
        }
      ]
    },
    {
      "cell_type": "code",
      "source": [
        "text = 'worldd'\n",
        "text_length = {}\n",
        "for i in text:\n",
        "  if i in text_length:\n",
        "    text_length[i]+=1\n",
        "  else:\n",
        "    text_length[i] =1\n",
        "print(text_length)"
      ],
      "metadata": {
        "colab": {
          "base_uri": "https://localhost:8080/"
        },
        "id": "0s0m74unR8ek",
        "outputId": "2c24538f-77a9-46f4-c78a-a0d6863fa6e7"
      },
      "execution_count": null,
      "outputs": [
        {
          "output_type": "stream",
          "name": "stdout",
          "text": [
            "{'w': 1, 'o': 1, 'r': 1, 'l': 1, 'd': 2}\n"
          ]
        }
      ]
    },
    {
      "cell_type": "code",
      "source": [
        "for i in 'Hello':\n",
        "  print(i)"
      ],
      "metadata": {
        "id": "lPwQASxETFzU",
        "colab": {
          "base_uri": "https://localhost:8080/"
        },
        "outputId": "887169ca-3a71-460a-dc54-9e168290c619"
      },
      "execution_count": null,
      "outputs": [
        {
          "output_type": "stream",
          "name": "stdout",
          "text": [
            "H\n",
            "e\n",
            "l\n",
            "l\n",
            "o\n"
          ]
        }
      ]
    },
    {
      "cell_type": "code",
      "source": [
        "for i in range(4):\n",
        "  for j in range(i+1):\n",
        "    print('*',end=' ')\n",
        "  print()"
      ],
      "metadata": {
        "colab": {
          "base_uri": "https://localhost:8080/"
        },
        "id": "QoXJB_Cer5E6",
        "outputId": "2f940a80-edb8-410c-9546-825130cd7744"
      },
      "execution_count": null,
      "outputs": [
        {
          "output_type": "stream",
          "name": "stdout",
          "text": [
            "* \n",
            "* * \n",
            "* * * \n",
            "* * * * \n"
          ]
        }
      ]
    },
    {
      "cell_type": "code",
      "source": [
        "for i in range(4):\n",
        "  for j in range(i+1):\n",
        "    print(' ',end=' ')\n",
        "  print(\"*\")"
      ],
      "metadata": {
        "colab": {
          "base_uri": "https://localhost:8080/"
        },
        "id": "DzBURl_puLnm",
        "outputId": "f50897ad-1917-4117-e7f1-f8ac07ff5d21"
      },
      "execution_count": null,
      "outputs": [
        {
          "output_type": "stream",
          "name": "stdout",
          "text": [
            "  *\n",
            "    *\n",
            "      *\n",
            "        *\n"
          ]
        }
      ]
    },
    {
      "cell_type": "code",
      "source": [
        "for i in range(4):\n",
        "  for j in range(1,i+1):\n",
        "    print(i,end=' ')\n",
        "  print()"
      ],
      "metadata": {
        "colab": {
          "base_uri": "https://localhost:8080/"
        },
        "id": "Gcu307CwuzzM",
        "outputId": "e6dc951f-95fd-49dd-97eb-ab86ffca1482"
      },
      "execution_count": null,
      "outputs": [
        {
          "output_type": "stream",
          "name": "stdout",
          "text": [
            "\n",
            "1 \n",
            "2 2 \n",
            "3 3 3 \n"
          ]
        }
      ]
    },
    {
      "cell_type": "code",
      "source": [
        "for i in range(4):\n",
        "  for j in range(4):\n",
        "    print(i,end=' ')\n",
        "  print()"
      ],
      "metadata": {
        "colab": {
          "base_uri": "https://localhost:8080/"
        },
        "id": "CsufjvkNyPuU",
        "outputId": "e0bf5c85-84f7-4260-8ad6-d220e2d2aff6"
      },
      "execution_count": null,
      "outputs": [
        {
          "output_type": "stream",
          "name": "stdout",
          "text": [
            "0 0 0 0 \n",
            "1 1 1 1 \n",
            "2 2 2 2 \n",
            "3 3 3 3 \n"
          ]
        }
      ]
    },
    {
      "cell_type": "code",
      "source": [
        "for i in range(1,8):\n",
        "  for j in range (i,8):\n",
        "    print(j,end='')\n",
        "  print(' ')"
      ],
      "metadata": {
        "colab": {
          "base_uri": "https://localhost:8080/"
        },
        "id": "FEpj5Uhuyo0r",
        "outputId": "1967fdfd-7435-4d75-c4e3-969316cd9905"
      },
      "execution_count": null,
      "outputs": [
        {
          "output_type": "stream",
          "name": "stdout",
          "text": [
            "1234567 \n",
            "234567 \n",
            "34567 \n",
            "4567 \n",
            "567 \n",
            "67 \n",
            "7 \n"
          ]
        }
      ]
    },
    {
      "cell_type": "code",
      "source": [
        "lst = [22,55,6,8,13,11,90,22,91,64,28]\n",
        "# create different list for even and odd with above list\n",
        "lst1=[]\n",
        "lst2=[]\n",
        "for i in lst:\n",
        "  if i%2==0:\n",
        "    lst1.append(i)\n",
        "  else:\n",
        "    lst2.append(i)\n",
        "print(lst1)\n",
        "print(lst2)"
      ],
      "metadata": {
        "colab": {
          "base_uri": "https://localhost:8080/"
        },
        "id": "7F6HxrSLzDuf",
        "outputId": "bc9f1c66-de07-4a90-eca0-a66ba5ee8ebf"
      },
      "execution_count": null,
      "outputs": [
        {
          "output_type": "stream",
          "name": "stdout",
          "text": [
            "[22, 6, 8, 90, 22, 64, 28]\n",
            "[55, 13, 11, 91]\n"
          ]
        }
      ]
    },
    {
      "cell_type": "code",
      "source": [
        "fees = ['30$','40$','30$','20']\n",
        "int_lst=[]\n",
        "int_lst1=[]\n",
        "for i in fees:\n",
        "  i=i.replace('$','')\n",
        "  int_lst.append(i)\n",
        "print(int_lst)\n",
        "for i in int_lst:\n",
        "  new = int(i)\n",
        "  int_lst1.append(new)\n",
        "add= sum(int_lst1)\n",
        "print(add)\n",
        "\n",
        "# calculate the sum of fees"
      ],
      "metadata": {
        "colab": {
          "base_uri": "https://localhost:8080/"
        },
        "id": "3DiVNQNL0Kgn",
        "outputId": "31a456fa-68de-4ad6-bb38-353087da061d"
      },
      "execution_count": null,
      "outputs": [
        {
          "output_type": "stream",
          "name": "stdout",
          "text": [
            "['30', '40', '30', '20']\n",
            "120\n"
          ]
        }
      ]
    },
    {
      "cell_type": "code",
      "source": [
        "fees = ['30','40','50',]\n",
        "lst=[]\n",
        "for i in fees:\n",
        "  new=int(i)\n",
        "  lst.append(new)\n",
        "\n",
        "\n",
        "add = sum(lst)\n",
        "print(add)\n"
      ],
      "metadata": {
        "colab": {
          "base_uri": "https://localhost:8080/"
        },
        "id": "3MtJ8eSs4Q9B",
        "outputId": "82a2eb5a-aa3f-46a8-95eb-9875a5e948d4"
      },
      "execution_count": null,
      "outputs": [
        {
          "output_type": "stream",
          "name": "stdout",
          "text": [
            "120\n"
          ]
        }
      ]
    },
    {
      "cell_type": "code",
      "source": [],
      "metadata": {
        "id": "fD5466HJ5Mrv"
      },
      "execution_count": null,
      "outputs": []
    }
  ]
}