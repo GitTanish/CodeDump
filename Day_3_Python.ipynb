{
  "nbformat": 4,
  "nbformat_minor": 0,
  "metadata": {
    "colab": {
      "provenance": [],
      "authorship_tag": "ABX9TyOWL6rBJYTAT12hsScHaARy"
    },
    "kernelspec": {
      "name": "python3",
      "display_name": "Python 3"
    },
    "language_info": {
      "name": "python"
    }
  },
  "cells": [
    {
      "cell_type": "code",
      "execution_count": null,
      "metadata": {
        "colab": {
          "base_uri": "https://localhost:8080/"
        },
        "id": "rqFgXJUMJRMa",
        "outputId": "37939b83-154c-4bba-bb00-e4c6a7307a42"
      },
      "outputs": [
        {
          "output_type": "stream",
          "name": "stdout",
          "text": [
            "Enter the number you want table for: 9\n",
            "9*1=9\n",
            "9*2=18\n",
            "9*3=27\n",
            "9*4=36\n",
            "9*5=45\n",
            "9*6=54\n",
            "9*7=63\n",
            "9*8=72\n",
            "9*9=81\n",
            "9*10=90\n"
          ]
        }
      ],
      "source": [
        "a = int(input('Enter the number you want table for: '))\n",
        "i =1 # start\n",
        "while i <=10: # stop\n",
        "  print(f\"{a}*{i}={i*a}\")\n",
        "  i+=1 # step"
      ]
    },
    {
      "cell_type": "code",
      "source": [
        "i=20\n",
        "while(i>0):\n",
        "  if i%2 == 0:\n",
        "    print(i)\n",
        "  i=i-1"
      ],
      "metadata": {
        "colab": {
          "base_uri": "https://localhost:8080/"
        },
        "id": "uBjlqIVpLJm0",
        "outputId": "c317ed4c-62dd-4af1-efd0-498727b93768"
      },
      "execution_count": null,
      "outputs": [
        {
          "output_type": "stream",
          "name": "stdout",
          "text": [
            "20\n",
            "18\n",
            "16\n",
            "14\n",
            "12\n",
            "10\n",
            "8\n",
            "6\n",
            "4\n",
            "2\n"
          ]
        }
      ]
    },
    {
      "cell_type": "code",
      "source": [
        "i =1 # start\n",
        "while i <=10: # stop\n",
        "  print(f\"{i}*{i}={i}\")\n",
        "  i+=1 # step"
      ],
      "metadata": {
        "id": "JdkD90fpJ5BB"
      },
      "execution_count": null,
      "outputs": []
    },
    {
      "cell_type": "code",
      "source": [
        "\n",
        "for i in range(1,11):\n",
        "  print(f\"2*{i}={i*2}\")"
      ],
      "metadata": {
        "colab": {
          "base_uri": "https://localhost:8080/"
        },
        "id": "EipcXR6eKZ59",
        "outputId": "c4d58f25-8f77-4727-9051-c174879f23fa"
      },
      "execution_count": null,
      "outputs": [
        {
          "output_type": "stream",
          "name": "stdout",
          "text": [
            "2*1=2\n",
            "2*2=4\n",
            "2*3=6\n",
            "2*4=8\n",
            "2*5=10\n",
            "2*6=12\n",
            "2*7=14\n",
            "2*8=16\n",
            "2*9=18\n",
            "2*10=20\n"
          ]
        }
      ]
    },
    {
      "cell_type": "code",
      "source": [
        "# print(\"Rohit Calculator Enterprice Limited\")\n",
        "# num1 = float(input('Enter 1st number:'))\n",
        "# num2 = float(input(\"Enter 2nd number:\"))\n",
        "# choice = [\"+,-,Y,/,^\"]\n",
        "\n",
        "print(\"Y to exit\")\n",
        "try:\n",
        "  print(\"Rohit Calculator Enterprice Limited\")\n",
        "  num1 = float(input('Enter 1st number:'))\n",
        "  num2 = float(input(\"Enter 2nd number:\"))\n",
        "  choice = [\"+,-,Y,/,^\"]\n",
        "  while True:\n",
        "      choice = input('Enter choice +, -, /, ^')\n",
        "      if choice == \"+\":\n",
        "        print(num1+num2)\n",
        "      elif choice == \"-\":\n",
        "        print(num1-num2)\n",
        "      elif choice == '/':\n",
        "        print(num1/num2)\n",
        "      elif choice == '^':\n",
        "        print(num1**num2)\n",
        "      elif choice=='Y':\n",
        "        break\n",
        "      else:\n",
        "        print('Invalid op')\n",
        "except ValueError:\n",
        "  print('Please enter Integer Values')\n",
        "\n"
      ],
      "metadata": {
        "colab": {
          "base_uri": "https://localhost:8080/"
        },
        "id": "zen_tdnIKmkh",
        "outputId": "ed1a74ed-6546-4f20-e20a-0576e93313f0"
      },
      "execution_count": null,
      "outputs": [
        {
          "name": "stdout",
          "output_type": "stream",
          "text": [
            "Y to exit\n",
            "Rohit Calculator Enterprice Limited\n",
            "Enter 1st number:2\n",
            "Enter 2nd number:2\n",
            "Enter choice +, -, /, ^+\n",
            "4.0\n",
            "Enter choice +, -, /, ^Y\n"
          ]
        }
      ]
    },
    {
      "cell_type": "code",
      "source": [
        "def f(x):\n",
        "  return 2**x\n",
        "\n",
        "print(f(2))"
      ],
      "metadata": {
        "colab": {
          "base_uri": "https://localhost:8080/"
        },
        "id": "Jo5czJ7ZNaDQ",
        "outputId": "c7d53dca-07f6-41e3-b3e1-49a4ffdca457"
      },
      "execution_count": null,
      "outputs": [
        {
          "output_type": "stream",
          "name": "stdout",
          "text": [
            "4\n"
          ]
        }
      ]
    },
    {
      "cell_type": "code",
      "source": [
        "def Calculator(num1, num2):\n",
        "      while True:\n",
        "        choice = input('Enter choice +, -, /, ^')\n",
        "        if choice == \"+\":\n",
        "          print(num1+num2)\n",
        "        elif choice == \"-\":\n",
        "          print(num1-num2)\n",
        "        elif choice == '/':\n",
        "          print(num1/num2)\n",
        "        elif choice == '^':\n",
        "          print(num1**num2)\n",
        "        elif choice=='Y':\n",
        "          break\n",
        "        else:\n",
        "          print('Invalid op')\n",
        "\n",
        "\n",
        "print(Calculator(3,3))"
      ],
      "metadata": {
        "colab": {
          "base_uri": "https://localhost:8080/"
        },
        "id": "ezfYDwuUbF9J",
        "outputId": "119ee135-0a71-4669-d3c4-3fa13bd0d2ac"
      },
      "execution_count": null,
      "outputs": [
        {
          "output_type": "stream",
          "name": "stdout",
          "text": [
            "Enter choice +, -, /, ^Y\n",
            "None\n"
          ]
        }
      ]
    },
    {
      "cell_type": "code",
      "source": [
        "# OOP"
      ],
      "metadata": {
        "id": "PQq-oOaMbYav"
      },
      "execution_count": 1,
      "outputs": []
    },
    {
      "cell_type": "code",
      "source": [
        "class MyClass:\n",
        "  # variables\n",
        "  variable1='Hello'\n",
        "  variable2='World'\n",
        "\n",
        "  #class method\n",
        "  def myMethod(self):\n",
        "    print(\"MyClass method called.\")\n",
        "\n",
        "\n",
        ""
      ],
      "metadata": {
        "id": "uHXTJil95fh-"
      },
      "execution_count": 2,
      "outputs": []
    },
    {
      "cell_type": "code",
      "source": [
        "# Creating object MyClass\n",
        "myObject = MyClass"
      ],
      "metadata": {
        "id": "APBVg2wd5wUr"
      },
      "execution_count": 3,
      "outputs": []
    },
    {
      "cell_type": "code",
      "source": [
        "# Accessing Variable\n",
        "print(myObject.variable1)\n",
        "print(myObject.variable2)"
      ],
      "metadata": {
        "colab": {
          "base_uri": "https://localhost:8080/"
        },
        "id": "2s8P48Oa54s_",
        "outputId": "27fdeb58-2fd4-471e-e1f4-3e34e6d1210d"
      },
      "execution_count": 4,
      "outputs": [
        {
          "output_type": "stream",
          "name": "stdout",
          "text": [
            "Hello\n",
            "World\n"
          ]
        }
      ]
    },
    {
      "cell_type": "code",
      "source": [
        "class Rectangle():\n",
        "  def __init__(self,length,width): # constructor is used to take input from the user\n",
        "    self.length=length\n",
        "    self.width= width\n",
        "\n",
        "  def angle_of_rect(self):\n",
        "    return (self.length + self.width)\n"
      ],
      "metadata": {
        "id": "C6lqml4H5_9E"
      },
      "execution_count": 5,
      "outputs": []
    },
    {
      "cell_type": "code",
      "source": [
        "rect1= Rectangle(10,8)"
      ],
      "metadata": {
        "id": "65b3l_iq9qpq"
      },
      "execution_count": 6,
      "outputs": []
    },
    {
      "cell_type": "code",
      "source": [
        "rect1.length"
      ],
      "metadata": {
        "colab": {
          "base_uri": "https://localhost:8080/"
        },
        "id": "7PGCr6Bx95yz",
        "outputId": "dad774f4-d224-4581-de88-c6c9ba1fc30f"
      },
      "execution_count": 8,
      "outputs": [
        {
          "output_type": "execute_result",
          "data": {
            "text/plain": [
              "10"
            ]
          },
          "metadata": {},
          "execution_count": 8
        }
      ]
    },
    {
      "cell_type": "code",
      "source": [
        "rect1.width"
      ],
      "metadata": {
        "colab": {
          "base_uri": "https://localhost:8080/"
        },
        "id": "YUk_Yxoo97Uj",
        "outputId": "c4158213-250e-475d-a3e9-6ddd10205a74"
      },
      "execution_count": 9,
      "outputs": [
        {
          "output_type": "execute_result",
          "data": {
            "text/plain": [
              "8"
            ]
          },
          "metadata": {},
          "execution_count": 9
        }
      ]
    },
    {
      "cell_type": "code",
      "source": [
        "rect1.angle_of_rect()"
      ],
      "metadata": {
        "colab": {
          "base_uri": "https://localhost:8080/"
        },
        "id": "DBMcuWfT-AzI",
        "outputId": "b47b9adf-26e9-4375-d833-6133826631ff"
      },
      "execution_count": 10,
      "outputs": [
        {
          "output_type": "execute_result",
          "data": {
            "text/plain": [
              "18"
            ]
          },
          "metadata": {},
          "execution_count": 10
        }
      ]
    },
    {
      "cell_type": "code",
      "source": [
        "class Rectangle1():\n",
        "  len = 12\n",
        "  wid = 10\n",
        "\n",
        "  def angle(self):\n",
        "    return self.len * self.wid"
      ],
      "metadata": {
        "id": "5XJTiz7D-D0u"
      },
      "execution_count": 11,
      "outputs": []
    },
    {
      "cell_type": "code",
      "source": [
        "obj1= Rectangle1()"
      ],
      "metadata": {
        "id": "j-XyPjg1_1NB"
      },
      "execution_count": 13,
      "outputs": []
    },
    {
      "cell_type": "code",
      "source": [
        "obj1.angle()\n"
      ],
      "metadata": {
        "colab": {
          "base_uri": "https://localhost:8080/"
        },
        "id": "iKRALHyL_5Pb",
        "outputId": "d59355b0-029a-4d0d-d8f0-e88a3543682c"
      },
      "execution_count": 16,
      "outputs": [
        {
          "output_type": "execute_result",
          "data": {
            "text/plain": [
              "120"
            ]
          },
          "metadata": {},
          "execution_count": 16
        }
      ]
    },
    {
      "cell_type": "code",
      "source": [
        "class Bank():\n",
        "  def __init__(self, amount):\n",
        "    self.amount = amount\n",
        "\n",
        "  def deposit(self, amount):\n",
        "    if amount > 0:\n",
        "      new_amount += amount\n",
        "    return new_amount\n",
        "\n",
        "  def withdraw(self, withdraw):\n",
        "    if amount>withdraw:\n",
        "      balance\n",
        "\n",
        "  def balance(balance):\n",
        "    return balance\n"
      ],
      "metadata": {
        "id": "DpdZCDRFBd52"
      },
      "execution_count": null,
      "outputs": []
    },
    {
      "cell_type": "code",
      "source": [
        "class Calculator1():\n",
        "  def __init__(self,n1,n2, choice):\n",
        "    self.num1=n1\n",
        "    self.num2=n2\n",
        "    self.choice=['+','-']\n",
        "\n",
        "  def addition(n1,n2):\n",
        "    return n1+n2\n",
        "  def sub(n1,n2):\n",
        "    return n1 -n2\n",
        "\n",
        "  # while True:\n",
        "  #   if choice == '+':\n"
      ],
      "metadata": {
        "id": "I7_PSp2h_81f"
      },
      "execution_count": 17,
      "outputs": []
    },
    {
      "cell_type": "code",
      "source": [
        "balance = 0\n",
        "class Bank():\n",
        "  def __init__(self, balance,name):\n",
        "    self.balance = balance\n",
        "    self.name = name\n",
        "\n",
        "  def deposit(self, amount):\n",
        "    if amount > 0:\n",
        "      self.balance += amount\n",
        "      print(f\"The deposit amount {amount} is added in the account\")\n",
        "\n",
        "  def withdraw(self, amount):\n",
        "    if amount >0:\n",
        "      if amount <= self.balance:\n",
        "        self.balance -= amount\n",
        "        print(f\"{amount} is withdrew\")\n",
        "      else:\n",
        "        print('Insufficient Amount')\n",
        "    else:\n",
        "      print('Withdrawal was successful')\n",
        "\n",
        "  def check_balance(self):\n",
        "    print(self.balance)"
      ],
      "metadata": {
        "id": "CMrvPA5dIzJd"
      },
      "execution_count": 23,
      "outputs": []
    },
    {
      "cell_type": "code",
      "source": [
        "raj = Bank(10000, \"raj\")"
      ],
      "metadata": {
        "id": "a4cqSYtSIDA9"
      },
      "execution_count": 24,
      "outputs": []
    },
    {
      "cell_type": "code",
      "source": [
        "raj.withdraw(5000)"
      ],
      "metadata": {
        "colab": {
          "base_uri": "https://localhost:8080/"
        },
        "id": "7t-TtPp2IPvs",
        "outputId": "efb94077-cfc8-42d4-e428-c9f9fc8016cb"
      },
      "execution_count": 25,
      "outputs": [
        {
          "output_type": "stream",
          "name": "stdout",
          "text": [
            "5000 is withdrew\n"
          ]
        }
      ]
    },
    {
      "cell_type": "code",
      "source": [
        "raj.check_balance()"
      ],
      "metadata": {
        "colab": {
          "base_uri": "https://localhost:8080/"
        },
        "id": "C0kKmDefIZkR",
        "outputId": "84e29744-a3ef-4ad8-9782-16f0bfb23019"
      },
      "execution_count": 27,
      "outputs": [
        {
          "output_type": "stream",
          "name": "stdout",
          "text": [
            "5000\n"
          ]
        }
      ]
    },
    {
      "cell_type": "code",
      "source": [
        "from rich import inspect"
      ],
      "metadata": {
        "id": "lAkcBakcI3Y5"
      },
      "execution_count": 28,
      "outputs": []
    },
    {
      "cell_type": "code",
      "source": [
        "inspect(raj)"
      ],
      "metadata": {
        "colab": {
          "base_uri": "https://localhost:8080/",
          "height": 153
        },
        "id": "72S7C8e7JnOs",
        "outputId": "c32c1f15-3db0-45b3-99a4-cb4b785e99ef"
      },
      "execution_count": 31,
      "outputs": [
        {
          "output_type": "display_data",
          "data": {
            "text/plain": [
              "\u001b[34m╭─\u001b[0m\u001b[34m─────────\u001b[0m\u001b[34m \u001b[0m\u001b[1;34m<\u001b[0m\u001b[1;95mclass\u001b[0m\u001b[39m \u001b[0m\u001b[32m'__main__.Bank'\u001b[0m\u001b[1;34m>\u001b[0m\u001b[34m \u001b[0m\u001b[34m──────────\u001b[0m\u001b[34m─╮\u001b[0m\n",
              "\u001b[34m│\u001b[0m \u001b[32m╭──────────────────────────────────────────╮\u001b[0m \u001b[34m│\u001b[0m\n",
              "\u001b[34m│\u001b[0m \u001b[32m│\u001b[0m \u001b[1m<\u001b[0m\u001b[1;95m__main__.Bank\u001b[0m\u001b[39m object at \u001b[0m\u001b[1;36m0x7e25144f94c0\u001b[0m\u001b[1m>\u001b[0m \u001b[32m│\u001b[0m \u001b[34m│\u001b[0m\n",
              "\u001b[34m│\u001b[0m \u001b[32m╰──────────────────────────────────────────╯\u001b[0m \u001b[34m│\u001b[0m\n",
              "\u001b[34m│\u001b[0m                                              \u001b[34m│\u001b[0m\n",
              "\u001b[34m│\u001b[0m \u001b[3;33mbalance\u001b[0m = \u001b[1;36m5000\u001b[0m                               \u001b[34m│\u001b[0m\n",
              "\u001b[34m│\u001b[0m    \u001b[3;33mname\u001b[0m = \u001b[32m'raj'\u001b[0m                              \u001b[34m│\u001b[0m\n",
              "\u001b[34m╰──────────────────────────────────────────────╯\u001b[0m\n"
            ],
            "text/html": [
              "<pre style=\"white-space:pre;overflow-x:auto;line-height:normal;font-family:Menlo,'DejaVu Sans Mono',consolas,'Courier New',monospace\"><span style=\"color: #000080; text-decoration-color: #000080\">╭────────── </span><span style=\"color: #000080; text-decoration-color: #000080; font-weight: bold\">&lt;</span><span style=\"color: #ff00ff; text-decoration-color: #ff00ff; font-weight: bold\">class</span><span style=\"color: #000000; text-decoration-color: #000000\"> </span><span style=\"color: #008000; text-decoration-color: #008000\">'__main__.Bank'</span><span style=\"color: #000080; text-decoration-color: #000080; font-weight: bold\">&gt;</span><span style=\"color: #000080; text-decoration-color: #000080\"> ───────────╮</span>\n",
              "<span style=\"color: #000080; text-decoration-color: #000080\">│</span> <span style=\"color: #008000; text-decoration-color: #008000\">╭──────────────────────────────────────────╮</span> <span style=\"color: #000080; text-decoration-color: #000080\">│</span>\n",
              "<span style=\"color: #000080; text-decoration-color: #000080\">│</span> <span style=\"color: #008000; text-decoration-color: #008000\">│</span> <span style=\"font-weight: bold\">&lt;</span><span style=\"color: #ff00ff; text-decoration-color: #ff00ff; font-weight: bold\">__main__.Bank</span><span style=\"color: #000000; text-decoration-color: #000000\"> object at </span><span style=\"color: #008080; text-decoration-color: #008080; font-weight: bold\">0x7e25144f94c0</span><span style=\"font-weight: bold\">&gt;</span> <span style=\"color: #008000; text-decoration-color: #008000\">│</span> <span style=\"color: #000080; text-decoration-color: #000080\">│</span>\n",
              "<span style=\"color: #000080; text-decoration-color: #000080\">│</span> <span style=\"color: #008000; text-decoration-color: #008000\">╰──────────────────────────────────────────╯</span> <span style=\"color: #000080; text-decoration-color: #000080\">│</span>\n",
              "<span style=\"color: #000080; text-decoration-color: #000080\">│</span>                                              <span style=\"color: #000080; text-decoration-color: #000080\">│</span>\n",
              "<span style=\"color: #000080; text-decoration-color: #000080\">│</span> <span style=\"color: #808000; text-decoration-color: #808000; font-style: italic\">balance</span> = <span style=\"color: #008080; text-decoration-color: #008080; font-weight: bold\">5000</span>                               <span style=\"color: #000080; text-decoration-color: #000080\">│</span>\n",
              "<span style=\"color: #000080; text-decoration-color: #000080\">│</span>    <span style=\"color: #808000; text-decoration-color: #808000; font-style: italic\">name</span> = <span style=\"color: #008000; text-decoration-color: #008000\">'raj'</span>                              <span style=\"color: #000080; text-decoration-color: #000080\">│</span>\n",
              "<span style=\"color: #000080; text-decoration-color: #000080\">╰──────────────────────────────────────────────╯</span>\n",
              "</pre>\n"
            ]
          },
          "metadata": {}
        }
      ]
    },
    {
      "cell_type": "code",
      "source": [],
      "metadata": {
        "id": "xeZ5j4pcJo2A"
      },
      "execution_count": null,
      "outputs": []
    }
  ]
}