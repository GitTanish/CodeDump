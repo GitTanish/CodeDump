{
  "nbformat": 4,
  "nbformat_minor": 0,
  "metadata": {
    "colab": {
      "provenance": [],
      "authorship_tag": "ABX9TyN7DIttYwdJRPFyRiOkiCcG",
      "include_colab_link": true
    },
    "kernelspec": {
      "name": "python3",
      "display_name": "Python 3"
    },
    "language_info": {
      "name": "python"
    }
  },
  "cells": [
    {
      "cell_type": "markdown",
      "metadata": {
        "id": "view-in-github",
        "colab_type": "text"
      },
      "source": [
        "<a href=\"https://colab.research.google.com/github/GitTanish/CodeDump/blob/main/Day1_Python.ipynb\" target=\"_parent\"><img src=\"https://colab.research.google.com/assets/colab-badge.svg\" alt=\"Open In Colab\"/></a>"
      ]
    },
    {
      "cell_type": "code",
      "execution_count": null,
      "metadata": {
        "id": "I8FgI4dkwsxg",
        "colab": {
          "base_uri": "https://localhost:8080/"
        },
        "outputId": "630ff82e-f318-4fbf-8f57-1339b737011a"
      },
      "outputs": [
        {
          "output_type": "stream",
          "name": "stdout",
          "text": [
            "4\n"
          ]
        }
      ],
      "source": [
        "# Agenda\n",
        "'''\n",
        "1 Comments - Message for developer and they don't get executed by Compiler or Interpreter\n",
        "2 Variable\n",
        "3 keywords\n",
        "4 Rules of Naming Variable\n",
        "5 Data Types\n",
        "'''"
      ]
    },
    {
      "cell_type": "code",
      "source": [
        "a =2\n",
        "b=2\n",
        "print(a+b) # Added two numbers"
      ],
      "metadata": {
        "colab": {
          "base_uri": "https://localhost:8080/"
        },
        "id": "FCTj3mpGzjzH",
        "outputId": "8fe95176-6f46-4e17-80cf-7403f31375fd"
      },
      "execution_count": null,
      "outputs": [
        {
          "output_type": "stream",
          "name": "stdout",
          "text": [
            "4\n"
          ]
        }
      ]
    },
    {
      "cell_type": "code",
      "source": [
        "# Variable\n",
        "age = 2.5 # container is a memeory location, and variable is basically the name of the container using assignment operator\n",
        "id(age)"
      ],
      "metadata": {
        "colab": {
          "base_uri": "https://localhost:8080/"
        },
        "id": "hRhj_x1wzsW5",
        "outputId": "adef98a6-b8f8-41ae-f49b-ceb2cb2eb897"
      },
      "execution_count": null,
      "outputs": [
        {
          "output_type": "execute_result",
          "data": {
            "text/plain": [
              "138806017253648"
            ]
          },
          "metadata": {},
          "execution_count": 5
        }
      ]
    },
    {
      "cell_type": "code",
      "source": [
        "age = int(input()) # input() is by default string\n",
        "type(age) # it can be type casted to store other datatype"
      ],
      "metadata": {
        "colab": {
          "base_uri": "https://localhost:8080/"
        },
        "id": "TOKISH-r0tCp",
        "outputId": "d996ebec-c567-4fce-856a-7fedd5eed66e"
      },
      "execution_count": null,
      "outputs": [
        {
          "name": "stdout",
          "output_type": "stream",
          "text": [
            "3\n"
          ]
        },
        {
          "output_type": "execute_result",
          "data": {
            "text/plain": [
              "int"
            ]
          },
          "metadata": {},
          "execution_count": 7
        }
      ]
    },
    {
      "cell_type": "code",
      "source": [
        "# keyword\n",
        "# Reserved words in a language that cannot be assigned as Variable"
      ],
      "metadata": {
        "id": "fI1D8p3g0UCO"
      },
      "execution_count": null,
      "outputs": []
    },
    {
      "cell_type": "markdown",
      "source": [
        "- Rules of naming variable\n",
        "1. Variable name should start with _ Or A to Z / a to z\n",
        "2. Variable name should not start with 0-9 numbers. But we can use number in between and at the end of variable\n",
        "3. In variable name special characters are not allowed\n",
        "4. Variables are case sensitive"
      ],
      "metadata": {
        "id": "a7OGlegA2iJt"
      }
    },
    {
      "cell_type": "code",
      "source": [
        "# Data Types - Primitive and Non Primitive\n",
        "# Primitive - Built in store single value (string, int)\n",
        "# Non- Primitive - Non Builtin it can store multiple values (list, dict, tuple)"
      ],
      "metadata": {
        "id": "wSpmahch2hnM"
      },
      "execution_count": null,
      "outputs": []
    },
    {
      "cell_type": "code",
      "source": [
        "age =20\n",
        "name ='''.bob.'''\n",
        "salary = 80000.50\n",
        "Was_present = True\n",
        "print(type(age))\n",
        "print(type(name))\n",
        "print(type(salary))\n",
        "print(type(Was_present))"
      ],
      "metadata": {
        "colab": {
          "base_uri": "https://localhost:8080/"
        },
        "id": "TpUAOFwi8ByJ",
        "outputId": "63acbead-58ab-4131-ac63-d8c76a62df39"
      },
      "execution_count": null,
      "outputs": [
        {
          "output_type": "stream",
          "name": "stdout",
          "text": [
            "<class 'int'>\n",
            "<class 'str'>\n",
            "<class 'float'>\n",
            "<class 'bool'>\n"
          ]
        }
      ]
    },
    {
      "cell_type": "code",
      "source": [
        "# Agenda\n",
        "'''\n",
        "Conditional Statement - If else, elif, else\n",
        "'''"
      ],
      "metadata": {
        "colab": {
          "base_uri": "https://localhost:8080/",
          "height": 35
        },
        "id": "Z0o-svOm8MUQ",
        "outputId": "f00ada30-a5df-4d41-9a4c-9cfa1fd44719"
      },
      "execution_count": null,
      "outputs": [
        {
          "output_type": "execute_result",
          "data": {
            "text/plain": [
              "'\\nConditional Statement - If else, elif, else\\n'"
            ],
            "application/vnd.google.colaboratory.intrinsic+json": {
              "type": "string"
            }
          },
          "metadata": {},
          "execution_count": 15
        }
      ]
    },
    {
      "cell_type": "code",
      "source": [
        "''' Random Number Guessing Game'''\n",
        "\n",
        "import random\n",
        "\n",
        "magic_number = random.randint(1,100)\n",
        "\n",
        "print('Guess a Number from 1 to 100')\n",
        "num = int(input('Enter your number: '))\n",
        "\n",
        "if magic_number == num:\n",
        "  print(\"Bingo! your guess was correct\")\n",
        "elif magic_number > num:\n",
        "  print('Your guess was too low')\n",
        "else:\n",
        "  print('Your Guess was too high!')\n",
        "\n",
        "print(f\"Magic number was: {magic_number}\")"
      ],
      "metadata": {
        "colab": {
          "base_uri": "https://localhost:8080/"
        },
        "id": "2taITSmD9_Fe",
        "outputId": "202160ac-8889-4308-abe7-a38318c4f6c2"
      },
      "execution_count": null,
      "outputs": [
        {
          "output_type": "stream",
          "name": "stdout",
          "text": [
            "Guess a Number from 1 to 100\n",
            "Enter your number: 26\n",
            "Your guess was too low\n",
            "Magic number was: 45\n"
          ]
        }
      ]
    },
    {
      "cell_type": "code",
      "source": [
        "# integer input even or odd\n",
        "num = int(input(\"Enter the number: \"))\n",
        "\n",
        "if num%2 == 0:\n",
        "  print('even')\n",
        "else:\n",
        "  print('odd')"
      ],
      "metadata": {
        "colab": {
          "base_uri": "https://localhost:8080/"
        },
        "id": "Cy6ku4gq-xDT",
        "outputId": "1701663a-9f2b-4a89-c75b-0ec25802f57b"
      },
      "execution_count": null,
      "outputs": [
        {
          "output_type": "stream",
          "name": "stdout",
          "text": [
            "Enter the number: 15\n",
            "odd\n"
          ]
        }
      ]
    },
    {
      "cell_type": "code",
      "source": [
        "age = int(input('Enter Age: '))\n",
        "\n",
        "if age > 0 and age <12:\n",
        "  print('5$')\n",
        "elif age >=13  and age <=17:\n",
        "  print('10$')\n",
        "elif age > 17 and age <=60:\n",
        "  print('20$')\n",
        "else:\n",
        "  print('You are not allowed')\n"
      ],
      "metadata": {
        "colab": {
          "base_uri": "https://localhost:8080/"
        },
        "id": "6aLyVV65DED4",
        "outputId": "e5308054-1eea-454b-f959-69539281f41e"
      },
      "execution_count": null,
      "outputs": [
        {
          "output_type": "stream",
          "name": "stdout",
          "text": [
            "Enter Age: 19\n",
            "20$\n"
          ]
        }
      ]
    },
    {
      "cell_type": "code",
      "source": [
        "salary = int(input('What will be my Salary:'))\n",
        "\n",
        "if salary >= 50000:\n",
        "  value = input('Is Pickup and Drop availabe? Yes or No: ').lower()\n",
        "  if value == 'yes':\n",
        "    print(\"I'll join\")\n",
        "  else:\n",
        "    print('please include pickup and drop')\n",
        "else:\n",
        "  print('Please increase the salary')"
      ],
      "metadata": {
        "colab": {
          "base_uri": "https://localhost:8080/"
        },
        "id": "Z5pEzHODKCxM",
        "outputId": "aecacb8e-d312-40a3-9c1a-72f514bb3698"
      },
      "execution_count": null,
      "outputs": [
        {
          "output_type": "stream",
          "name": "stdout",
          "text": [
            "What will be my Salary:590000\n",
            "Is Pickup and Drop availabe? Yes or No: yes\n",
            "I'll join\n"
          ]
        }
      ]
    },
    {
      "cell_type": "code",
      "source": [],
      "metadata": {
        "id": "M7MRe8FHMvES"
      },
      "execution_count": null,
      "outputs": []
    },
    {
      "cell_type": "markdown",
      "source": [
        "- List\n",
        "1. List is an ordered collection of heterogenous data type values.\n",
        "2. List follow indexing and slicing.\n",
        "3. List is mutable.\n",
        "4. It means we can add new element, modify exisitng element and deleting exisitng element.\n",
        "5. List element enclosed in [] and seperated by ','"
      ],
      "metadata": {
        "id": "UgjV7Qe6iNKa"
      }
    },
    {
      "cell_type": "code",
      "source": [
        "#        0       1   2     3     4\n",
        "#       -5      -4  -3    -2    -1\n",
        "lst = ['rick', 800, 85.8, True, None]\n",
        "lst\n"
      ],
      "metadata": {
        "colab": {
          "base_uri": "https://localhost:8080/"
        },
        "id": "NCw4JwR4jne_",
        "outputId": "ec77056e-f2e6-40b2-d64a-e83f309acee1"
      },
      "execution_count": 1,
      "outputs": [
        {
          "output_type": "execute_result",
          "data": {
            "text/plain": [
              "['rick', 800, 85.8, True, None]"
            ]
          },
          "metadata": {},
          "execution_count": 1
        }
      ]
    },
    {
      "cell_type": "code",
      "source": [
        "lst[3]"
      ],
      "metadata": {
        "colab": {
          "base_uri": "https://localhost:8080/"
        },
        "id": "FnqhfzTqkFdz",
        "outputId": "203049bb-d5d7-499d-c2e1-be0dfe6807f4"
      },
      "execution_count": 3,
      "outputs": [
        {
          "output_type": "execute_result",
          "data": {
            "text/plain": [
              "True"
            ]
          },
          "metadata": {},
          "execution_count": 3
        }
      ]
    },
    {
      "cell_type": "markdown",
      "source": [
        "-  ## Indexing is a way to retrieve particular element from the sequence\n",
        "- Positive Indexing\n",
        "1. Postive indexing start from 0 and goes to n-1\n",
        "2. It traverse from left to right\n",
        "\n",
        "- Negative Indexing\n",
        "1. Negative indexing start from -1 and goes upto -n\n",
        "2. It traverse from right to left"
      ],
      "metadata": {
        "id": "4FfwM6IulZde"
      }
    },
    {
      "cell_type": "code",
      "source": [],
      "metadata": {
        "id": "Ns3oU4Iul9pe"
      },
      "execution_count": null,
      "outputs": []
    },
    {
      "cell_type": "markdown",
      "source": [
        "- ## Silcing\n",
        "1. Slicing is a way to retrieve subsequence from the sequence\n"
      ],
      "metadata": {
        "id": "v1BO-zeFmQlD"
      }
    },
    {
      "cell_type": "code",
      "source": [
        "lst = [2,7,76,23,54,77,90,21,6,9,10]\n",
        "\n",
        "#  [start -> 0 :stop -> n-1 :step -> +1]\n",
        "lst[1:5:1] # with positive indexing\n",
        "lst[-10:-6] # with negative indexing"
      ],
      "metadata": {
        "colab": {
          "base_uri": "https://localhost:8080/"
        },
        "id": "5v4oJSDvms6L",
        "outputId": "b153ef62-7f2b-4949-c056-c9cd631d145d"
      },
      "execution_count": 5,
      "outputs": [
        {
          "output_type": "execute_result",
          "data": {
            "text/plain": [
              "[7, 76, 23, 54]"
            ]
          },
          "metadata": {},
          "execution_count": 5
        }
      ]
    },
    {
      "cell_type": "code",
      "source": [
        "lst[4:0:-1]"
      ],
      "metadata": {
        "colab": {
          "base_uri": "https://localhost:8080/"
        },
        "id": "6aYYJ0tAoYlb",
        "outputId": "def63772-5871-4a2f-9e27-3a6d76c6613c"
      },
      "execution_count": 20,
      "outputs": [
        {
          "output_type": "execute_result",
          "data": {
            "text/plain": [
              "[54, 23, 76, 7]"
            ]
          },
          "metadata": {},
          "execution_count": 20
        }
      ]
    },
    {
      "cell_type": "code",
      "source": [
        "lst[4::-1]"
      ],
      "metadata": {
        "colab": {
          "base_uri": "https://localhost:8080/"
        },
        "id": "uI4jengEpZC4",
        "outputId": "27c17ad8-b538-4dd0-c58d-48fd77cf3a1d"
      },
      "execution_count": 21,
      "outputs": [
        {
          "output_type": "execute_result",
          "data": {
            "text/plain": [
              "[54, 23, 76, 7, 2]"
            ]
          },
          "metadata": {},
          "execution_count": 21
        }
      ]
    },
    {
      "cell_type": "code",
      "source": [
        "# append - It add a single element at the end of the list\n",
        "lst = [1,2,3]\n",
        "lst.append(4)\n",
        "lst"
      ],
      "metadata": {
        "colab": {
          "base_uri": "https://localhost:8080/"
        },
        "id": "c49l_U9HraSd",
        "outputId": "f39b3a5c-b68b-4795-84cd-6ff6b620c3b8"
      },
      "execution_count": 22,
      "outputs": [
        {
          "output_type": "execute_result",
          "data": {
            "text/plain": [
              "[1, 2, 3, 4]"
            ]
          },
          "metadata": {},
          "execution_count": 22
        }
      ]
    },
    {
      "cell_type": "code",
      "source": [
        "# extend - add sequence in the end of the list\n",
        "lst1 = [1,2,3]\n",
        "lst2 = [4,5,6]\n",
        "lst1.extend(lst2)\n",
        "lst1"
      ],
      "metadata": {
        "colab": {
          "base_uri": "https://localhost:8080/"
        },
        "id": "hGspK8bNsNPq",
        "outputId": "ea6f75d6-282f-41c5-91b9-c20e858244f2"
      },
      "execution_count": 24,
      "outputs": [
        {
          "output_type": "execute_result",
          "data": {
            "text/plain": [
              "[1, 2, 3, 4, 5, 6]"
            ]
          },
          "metadata": {},
          "execution_count": 24
        }
      ]
    },
    {
      "cell_type": "code",
      "source": [
        "# insert - it add single element at specific index of the list\n",
        "lst = [1,2,3]\n",
        "lst.insert(1,10)\n",
        "lst"
      ],
      "metadata": {
        "colab": {
          "base_uri": "https://localhost:8080/"
        },
        "id": "gXG9JCiwtBg3",
        "outputId": "68fba4ec-0d0e-47ed-9b13-e004ea77f05a"
      },
      "execution_count": 25,
      "outputs": [
        {
          "output_type": "execute_result",
          "data": {
            "text/plain": [
              "[1, 10, 2, 3]"
            ]
          },
          "metadata": {},
          "execution_count": 25
        }
      ]
    },
    {
      "cell_type": "code",
      "source": [
        "# modification"
      ],
      "metadata": {
        "id": "JoBybrXktf3J"
      },
      "execution_count": 26,
      "outputs": []
    },
    {
      "cell_type": "code",
      "source": [
        "lst = [1,2,3]\n",
        "lst[1]=10\n",
        "lst"
      ],
      "metadata": {
        "colab": {
          "base_uri": "https://localhost:8080/"
        },
        "id": "_WzJ6gDwuCPk",
        "outputId": "8ac09410-4459-4dd2-8ecc-31a6e7480bdb"
      },
      "execution_count": 27,
      "outputs": [
        {
          "output_type": "execute_result",
          "data": {
            "text/plain": [
              "[1, 10, 3]"
            ]
          },
          "metadata": {},
          "execution_count": 27
        }
      ]
    },
    {
      "cell_type": "code",
      "source": [
        "# pop - it deletes the end value if not explicitly specified (index)\n",
        "lst = [1,10,3]\n",
        "lst.pop()\n",
        "lst"
      ],
      "metadata": {
        "colab": {
          "base_uri": "https://localhost:8080/"
        },
        "id": "MutSIQg5uHod",
        "outputId": "f58d8411-751b-4ce9-eee5-473c071bbe45"
      },
      "execution_count": 28,
      "outputs": [
        {
          "output_type": "execute_result",
          "data": {
            "text/plain": [
              "[1, 10]"
            ]
          },
          "metadata": {},
          "execution_count": 28
        }
      ]
    },
    {
      "cell_type": "code",
      "source": [
        "lst = [1,10,3]\n",
        "lst.pop(1)\n",
        "lst"
      ],
      "metadata": {
        "colab": {
          "base_uri": "https://localhost:8080/"
        },
        "id": "YSyWM6E7uqtI",
        "outputId": "dd85f399-6f1a-4813-8904-aa5a1dde569c"
      },
      "execution_count": 31,
      "outputs": [
        {
          "output_type": "execute_result",
          "data": {
            "text/plain": [
              "[1, 3]"
            ]
          },
          "metadata": {},
          "execution_count": 31
        }
      ]
    },
    {
      "cell_type": "code",
      "source": [
        "# remove - it deletes the end value if not explicitly specified (values)\n",
        "lst = [1,10,3]\n",
        "lst.remove(3)\n",
        "lst"
      ],
      "metadata": {
        "colab": {
          "base_uri": "https://localhost:8080/"
        },
        "id": "r2AKGjWkutqJ",
        "outputId": "b019d318-90c7-4e49-c58c-bda10e3c2009"
      },
      "execution_count": 34,
      "outputs": [
        {
          "output_type": "execute_result",
          "data": {
            "text/plain": [
              "[1, 10]"
            ]
          },
          "metadata": {},
          "execution_count": 34
        }
      ]
    },
    {
      "cell_type": "code",
      "source": [
        "# clear - all the elements are deleted/ truncated\n",
        "lst = [1,10,3]\n",
        "lst.clear()\n",
        "lst"
      ],
      "metadata": {
        "colab": {
          "base_uri": "https://localhost:8080/"
        },
        "id": "1zMe-ArTvG_0",
        "outputId": "aec5cee8-52d6-47b2-a607-55978b59ceed"
      },
      "execution_count": 35,
      "outputs": [
        {
          "output_type": "execute_result",
          "data": {
            "text/plain": [
              "[]"
            ]
          },
          "metadata": {},
          "execution_count": 35
        }
      ]
    },
    {
      "cell_type": "code",
      "source": [],
      "metadata": {
        "id": "DUyjqd6KvYrv"
      },
      "execution_count": null,
      "outputs": []
    }
  ]
}